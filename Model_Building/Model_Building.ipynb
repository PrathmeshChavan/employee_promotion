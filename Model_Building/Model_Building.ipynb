{
 "cells": [
  {
   "cell_type": "markdown",
   "metadata": {},
   "source": [
    "# Finding Best Algorithm For Our Dataset"
   ]
  },
  {
   "cell_type": "code",
   "execution_count": 1,
   "metadata": {},
   "outputs": [],
   "source": [
    "import pandas as pd\n",
    "import numpy as np\n",
    "import seaborn as sns\n",
    "import matplotlib.pyplot as plt\n",
    "\n",
    "#--------------------------------------------------------\n",
    "\n",
    "from sklearn.ensemble import RandomForestClassifier\n",
    "from sklearn.neighbors import KNeighborsClassifier\n",
    "from sklearn.linear_model import LogisticRegression\n",
    "from xgboost import XGBClassifier\n",
    "from sklearn.svm import SVC\n",
    "\n",
    "#--------------------------------------------------------\n",
    "\n",
    "from sklearn.metrics import confusion_matrix\n",
    "from sklearn.model_selection import cross_val_score\n"
   ]
  },
  {
   "cell_type": "markdown",
   "metadata": {},
   "source": [
    "I am using 2 different Datasets.\n",
    "\n",
    "Scaled Data And Non-Scaled Data.\n",
    "\n",
    "Reason is Few Algorithms works on Decision Trees and Few Works on Distances like Eucladian Distance.\n",
    "\n",
    "Decision Tree based Algorithms Does not require scaled data, hence we will use Non scaled data from RandomForest and Xgboost.\n",
    "\n",
    "And for all other algorithms we will use standardized data."
   ]
  },
  {
   "cell_type": "code",
   "execution_count": 16,
   "metadata": {},
   "outputs": [],
   "source": [
    "df_raw = pd.read_csv(\"C://Users//admin//Desktop//Employee_Promotion//Data_Preprocessing//raw_data.csv\")\n",
    "df_scaled = pd.read_csv(\"C://Users//admin//Desktop//Employee_Promotion//Data_Preprocessing//scaled_data.csv\")\n",
    "\n",
    "df_test_raw = pd.read_csv(\"C://Users//admin//Desktop//Employee_Promotion//Data_Preprocessing//raw_test_data.csv\")\n",
    "df_test_scaled = pd.read_csv(\"C://Users//admin//Desktop//Employee_Promotion//Data_Preprocessing//scaled_test_data.csv\")"
   ]
  },
  {
   "cell_type": "code",
   "execution_count": 13,
   "metadata": {},
   "outputs": [
    {
     "data": {
      "text/html": [
       "<div>\n",
       "<style scoped>\n",
       "    .dataframe tbody tr th:only-of-type {\n",
       "        vertical-align: middle;\n",
       "    }\n",
       "\n",
       "    .dataframe tbody tr th {\n",
       "        vertical-align: top;\n",
       "    }\n",
       "\n",
       "    .dataframe thead th {\n",
       "        text-align: right;\n",
       "    }\n",
       "</style>\n",
       "<table border=\"1\" class=\"dataframe\">\n",
       "  <thead>\n",
       "    <tr style=\"text-align: right;\">\n",
       "      <th></th>\n",
       "      <th>avg_training_score</th>\n",
       "      <th>awards_won?</th>\n",
       "      <th>KPIs_met &gt;80%</th>\n",
       "      <th>previous_year_rating</th>\n",
       "      <th>department_Operations</th>\n",
       "      <th>department_Procurement</th>\n",
       "      <th>department_Sales &amp; Marketing</th>\n",
       "      <th>department_Technology</th>\n",
       "      <th>department_other</th>\n",
       "      <th>is_promoted</th>\n",
       "    </tr>\n",
       "  </thead>\n",
       "  <tbody>\n",
       "    <tr>\n",
       "      <th>0</th>\n",
       "      <td>49</td>\n",
       "      <td>0</td>\n",
       "      <td>1</td>\n",
       "      <td>5</td>\n",
       "      <td>0</td>\n",
       "      <td>0</td>\n",
       "      <td>1</td>\n",
       "      <td>0</td>\n",
       "      <td>0</td>\n",
       "      <td>0</td>\n",
       "    </tr>\n",
       "    <tr>\n",
       "      <th>1</th>\n",
       "      <td>60</td>\n",
       "      <td>0</td>\n",
       "      <td>0</td>\n",
       "      <td>5</td>\n",
       "      <td>1</td>\n",
       "      <td>0</td>\n",
       "      <td>0</td>\n",
       "      <td>0</td>\n",
       "      <td>0</td>\n",
       "      <td>0</td>\n",
       "    </tr>\n",
       "    <tr>\n",
       "      <th>2</th>\n",
       "      <td>50</td>\n",
       "      <td>0</td>\n",
       "      <td>0</td>\n",
       "      <td>3</td>\n",
       "      <td>0</td>\n",
       "      <td>0</td>\n",
       "      <td>1</td>\n",
       "      <td>0</td>\n",
       "      <td>0</td>\n",
       "      <td>0</td>\n",
       "    </tr>\n",
       "    <tr>\n",
       "      <th>3</th>\n",
       "      <td>50</td>\n",
       "      <td>0</td>\n",
       "      <td>0</td>\n",
       "      <td>1</td>\n",
       "      <td>0</td>\n",
       "      <td>0</td>\n",
       "      <td>1</td>\n",
       "      <td>0</td>\n",
       "      <td>0</td>\n",
       "      <td>0</td>\n",
       "    </tr>\n",
       "    <tr>\n",
       "      <th>4</th>\n",
       "      <td>73</td>\n",
       "      <td>0</td>\n",
       "      <td>0</td>\n",
       "      <td>3</td>\n",
       "      <td>0</td>\n",
       "      <td>0</td>\n",
       "      <td>0</td>\n",
       "      <td>1</td>\n",
       "      <td>0</td>\n",
       "      <td>0</td>\n",
       "    </tr>\n",
       "  </tbody>\n",
       "</table>\n",
       "</div>"
      ],
      "text/plain": [
       "   avg_training_score  awards_won?  KPIs_met >80%  previous_year_rating  \\\n",
       "0                  49            0              1                     5   \n",
       "1                  60            0              0                     5   \n",
       "2                  50            0              0                     3   \n",
       "3                  50            0              0                     1   \n",
       "4                  73            0              0                     3   \n",
       "\n",
       "   department_Operations  department_Procurement  \\\n",
       "0                      0                       0   \n",
       "1                      1                       0   \n",
       "2                      0                       0   \n",
       "3                      0                       0   \n",
       "4                      0                       0   \n",
       "\n",
       "   department_Sales & Marketing  department_Technology  department_other  \\\n",
       "0                             1                      0                 0   \n",
       "1                             0                      0                 0   \n",
       "2                             1                      0                 0   \n",
       "3                             1                      0                 0   \n",
       "4                             0                      1                 0   \n",
       "\n",
       "   is_promoted  \n",
       "0            0  \n",
       "1            0  \n",
       "2            0  \n",
       "3            0  \n",
       "4            0  "
      ]
     },
     "execution_count": 13,
     "metadata": {},
     "output_type": "execute_result"
    }
   ],
   "source": [
    "df_raw.head()"
   ]
  },
  {
   "cell_type": "code",
   "execution_count": 17,
   "metadata": {},
   "outputs": [
    {
     "data": {
      "text/html": [
       "<div>\n",
       "<style scoped>\n",
       "    .dataframe tbody tr th:only-of-type {\n",
       "        vertical-align: middle;\n",
       "    }\n",
       "\n",
       "    .dataframe tbody tr th {\n",
       "        vertical-align: top;\n",
       "    }\n",
       "\n",
       "    .dataframe thead th {\n",
       "        text-align: right;\n",
       "    }\n",
       "</style>\n",
       "<table border=\"1\" class=\"dataframe\">\n",
       "  <thead>\n",
       "    <tr style=\"text-align: right;\">\n",
       "      <th></th>\n",
       "      <th>avg_training_score</th>\n",
       "      <th>awards_won?</th>\n",
       "      <th>KPIs_met &gt;80%</th>\n",
       "      <th>previous_year_rating</th>\n",
       "      <th>department_Operations</th>\n",
       "      <th>department_Procurement</th>\n",
       "      <th>department_Sales &amp; Marketing</th>\n",
       "      <th>department_Technology</th>\n",
       "      <th>department_other</th>\n",
       "      <th>is_promoted</th>\n",
       "    </tr>\n",
       "  </thead>\n",
       "  <tbody>\n",
       "    <tr>\n",
       "      <th>0</th>\n",
       "      <td>-1.075931</td>\n",
       "      <td>-0.154018</td>\n",
       "      <td>1.356878</td>\n",
       "      <td>1.395766</td>\n",
       "      <td>-0.510993</td>\n",
       "      <td>-0.38696</td>\n",
       "      <td>1.501543</td>\n",
       "      <td>-0.386960</td>\n",
       "      <td>-0.382397</td>\n",
       "      <td>0</td>\n",
       "    </tr>\n",
       "    <tr>\n",
       "      <th>1</th>\n",
       "      <td>-0.253282</td>\n",
       "      <td>-0.154018</td>\n",
       "      <td>-0.736986</td>\n",
       "      <td>1.395766</td>\n",
       "      <td>1.956975</td>\n",
       "      <td>-0.38696</td>\n",
       "      <td>-0.665982</td>\n",
       "      <td>-0.386960</td>\n",
       "      <td>-0.382397</td>\n",
       "      <td>0</td>\n",
       "    </tr>\n",
       "    <tr>\n",
       "      <th>2</th>\n",
       "      <td>-1.001145</td>\n",
       "      <td>-0.154018</td>\n",
       "      <td>-0.736986</td>\n",
       "      <td>-0.250651</td>\n",
       "      <td>-0.510993</td>\n",
       "      <td>-0.38696</td>\n",
       "      <td>1.501543</td>\n",
       "      <td>-0.386960</td>\n",
       "      <td>-0.382397</td>\n",
       "      <td>0</td>\n",
       "    </tr>\n",
       "    <tr>\n",
       "      <th>3</th>\n",
       "      <td>-1.001145</td>\n",
       "      <td>-0.154018</td>\n",
       "      <td>-0.736986</td>\n",
       "      <td>-1.897069</td>\n",
       "      <td>-0.510993</td>\n",
       "      <td>-0.38696</td>\n",
       "      <td>1.501543</td>\n",
       "      <td>-0.386960</td>\n",
       "      <td>-0.382397</td>\n",
       "      <td>0</td>\n",
       "    </tr>\n",
       "    <tr>\n",
       "      <th>4</th>\n",
       "      <td>0.718939</td>\n",
       "      <td>-0.154018</td>\n",
       "      <td>-0.736986</td>\n",
       "      <td>-0.250651</td>\n",
       "      <td>-0.510993</td>\n",
       "      <td>-0.38696</td>\n",
       "      <td>-0.665982</td>\n",
       "      <td>2.584249</td>\n",
       "      <td>-0.382397</td>\n",
       "      <td>0</td>\n",
       "    </tr>\n",
       "  </tbody>\n",
       "</table>\n",
       "</div>"
      ],
      "text/plain": [
       "   avg_training_score  awards_won?  KPIs_met >80%  previous_year_rating  \\\n",
       "0           -1.075931    -0.154018       1.356878              1.395766   \n",
       "1           -0.253282    -0.154018      -0.736986              1.395766   \n",
       "2           -1.001145    -0.154018      -0.736986             -0.250651   \n",
       "3           -1.001145    -0.154018      -0.736986             -1.897069   \n",
       "4            0.718939    -0.154018      -0.736986             -0.250651   \n",
       "\n",
       "   department_Operations  department_Procurement  \\\n",
       "0              -0.510993                -0.38696   \n",
       "1               1.956975                -0.38696   \n",
       "2              -0.510993                -0.38696   \n",
       "3              -0.510993                -0.38696   \n",
       "4              -0.510993                -0.38696   \n",
       "\n",
       "   department_Sales & Marketing  department_Technology  department_other  \\\n",
       "0                      1.501543              -0.386960         -0.382397   \n",
       "1                     -0.665982              -0.386960         -0.382397   \n",
       "2                      1.501543              -0.386960         -0.382397   \n",
       "3                      1.501543              -0.386960         -0.382397   \n",
       "4                     -0.665982               2.584249         -0.382397   \n",
       "\n",
       "   is_promoted  \n",
       "0            0  \n",
       "1            0  \n",
       "2            0  \n",
       "3            0  \n",
       "4            0  "
      ]
     },
     "execution_count": 17,
     "metadata": {},
     "output_type": "execute_result"
    }
   ],
   "source": [
    "df_scaled.head()"
   ]
  },
  {
   "cell_type": "code",
   "execution_count": 19,
   "metadata": {},
   "outputs": [],
   "source": [
    "x_raw = df_raw.drop(['is_promoted'] , axis = 1)\n",
    "y_raw = df_raw.is_promoted"
   ]
  },
  {
   "cell_type": "code",
   "execution_count": 20,
   "metadata": {},
   "outputs": [],
   "source": [
    "x_scaled = df_scaled.drop(['is_promoted'] , axis = 1)\n",
    "y_scaled = df_scaled.is_promoted"
   ]
  },
  {
   "cell_type": "code",
   "execution_count": 23,
   "metadata": {},
   "outputs": [],
   "source": [
    "from sklearn.model_selection import train_test_split\n",
    "\n",
    "x_train_raw , x_test_raw , y_train_raw , y_test_raw = train_test_split(x_raw , y_raw , test_size = 0.30 , random_state = 2)\n",
    "\n",
    "x_train_scaled , x_test_scaled , y_train_scaled , y_test_scaled = train_test_split(x_scaled , y_scaled , test_size = 0.30 , random_state = 2)"
   ]
  },
  {
   "cell_type": "markdown",
   "metadata": {},
   "source": [
    "#### --------------------------------------------------------------------------------------------------------------------------------------------------------------------------------------------------"
   ]
  },
  {
   "cell_type": "markdown",
   "metadata": {},
   "source": [
    "### RandomForestClassifier"
   ]
  },
  {
   "cell_type": "code",
   "execution_count": 24,
   "metadata": {},
   "outputs": [
    {
     "name": "stdout",
     "output_type": "stream",
     "text": [
      "0.9395487441464453\n",
      "0.9399540351728202\n"
     ]
    }
   ],
   "source": [
    "classifier = RandomForestClassifier()\n",
    "classifier.fit(x_train_raw , y_train_raw)\n",
    "print(classifier.score(x_test_raw , y_test_raw))\n",
    "\n",
    "scores = cross_val_score(classifier , x_raw , y_raw , cv = 5)\n",
    "print(scores.mean())"
   ]
  },
  {
   "cell_type": "markdown",
   "metadata": {},
   "source": [
    "#### Confusion Matrix"
   ]
  },
  {
   "cell_type": "code",
   "execution_count": 25,
   "metadata": {},
   "outputs": [
    {
     "data": {
      "text/plain": [
       "array([[14970,    65],\n",
       "       [  929,   479]], dtype=int64)"
      ]
     },
     "execution_count": 25,
     "metadata": {},
     "output_type": "execute_result"
    }
   ],
   "source": [
    "y_pred = classifier.predict(x_test_raw)\n",
    "cm = confusion_matrix(y_test_raw , y_pred)\n",
    "cm"
   ]
  },
  {
   "cell_type": "markdown",
   "metadata": {},
   "source": [
    "#### --------------------------------------------------------------------------------------------------------------------------------------------------------------------------------------------------"
   ]
  },
  {
   "cell_type": "markdown",
   "metadata": {},
   "source": [
    "### XGBoost"
   ]
  },
  {
   "cell_type": "code",
   "execution_count": 26,
   "metadata": {},
   "outputs": [
    {
     "name": "stdout",
     "output_type": "stream",
     "text": [
      "0.940825883354619\n",
      "0.9413042086936049\n"
     ]
    }
   ],
   "source": [
    "xgb = XGBClassifier()\n",
    "xgb.fit(x_train_raw , y_train_raw)\n",
    "print(xgb.score(x_test_raw , y_test_raw))\n",
    "scores = cross_val_score(xgb , x_raw , y_raw , cv = 5)\n",
    "print(scores.mean())"
   ]
  },
  {
   "cell_type": "markdown",
   "metadata": {},
   "source": [
    "#### Confusion Matrix"
   ]
  },
  {
   "cell_type": "code",
   "execution_count": 27,
   "metadata": {},
   "outputs": [
    {
     "data": {
      "text/plain": [
       "array([[14999,    36],\n",
       "       [  937,   471]], dtype=int64)"
      ]
     },
     "execution_count": 27,
     "metadata": {},
     "output_type": "execute_result"
    }
   ],
   "source": [
    "y_pred = xgb.predict(x_test_raw)\n",
    "cm = confusion_matrix(y_test_raw , y_pred)\n",
    "cm"
   ]
  },
  {
   "cell_type": "markdown",
   "metadata": {},
   "source": [
    "#### --------------------------------------------------------------------------------------------------------------------------------------------------------------------------------------------------"
   ]
  },
  {
   "cell_type": "markdown",
   "metadata": {},
   "source": [
    "### SVM"
   ]
  },
  {
   "cell_type": "code",
   "execution_count": 28,
   "metadata": {},
   "outputs": [
    {
     "name": "stdout",
     "output_type": "stream",
     "text": [
      "0.9211822660098522\n",
      "0.9217450165529406\n"
     ]
    }
   ],
   "source": [
    "svm = SVC(kernel = 'linear')\n",
    "svm.fit(x_train_scaled , y_train_scaled)\n",
    "print(svm.score(x_test_scaled , y_test_scaled))\n",
    "scores = cross_val_score(svm , x_scaled , y_scaled , cv = 5)\n",
    "print(scores.mean())"
   ]
  },
  {
   "cell_type": "markdown",
   "metadata": {},
   "source": [
    "#### Confusion Matrix"
   ]
  },
  {
   "cell_type": "code",
   "execution_count": 29,
   "metadata": {},
   "outputs": [
    {
     "data": {
      "text/plain": [
       "array([[15035,     0],\n",
       "       [ 1296,   112]], dtype=int64)"
      ]
     },
     "execution_count": 29,
     "metadata": {},
     "output_type": "execute_result"
    }
   ],
   "source": [
    "y_pred = svm.predict(x_test_scaled)\n",
    "cm = confusion_matrix(y_test_scaled , y_pred)\n",
    "cm"
   ]
  },
  {
   "cell_type": "markdown",
   "metadata": {},
   "source": [
    "#### --------------------------------------------------------------------------------------------------------------------------------------------------------------------------------------------------"
   ]
  },
  {
   "cell_type": "markdown",
   "metadata": {},
   "source": [
    "# KNN"
   ]
  },
  {
   "cell_type": "code",
   "execution_count": 31,
   "metadata": {},
   "outputs": [
    {
     "name": "stdout",
     "output_type": "stream",
     "text": [
      "0.9348659003831418\n",
      "0.9361042561857993\n"
     ]
    }
   ],
   "source": [
    "knn = KNeighborsClassifier()\n",
    "knn.fit(x_train_scaled , y_train_scaled)\n",
    "print(knn.score(x_test_scaled , y_test_scaled))\n",
    "scores = cross_val_score(knn , x_scaled , y_scaled , cv = 5)\n",
    "print(scores.mean())"
   ]
  },
  {
   "cell_type": "markdown",
   "metadata": {},
   "source": [
    "#### Confusion Matrix"
   ]
  },
  {
   "cell_type": "code",
   "execution_count": 32,
   "metadata": {},
   "outputs": [
    {
     "data": {
      "text/plain": [
       "array([[14886,   149],\n",
       "       [  922,   486]], dtype=int64)"
      ]
     },
     "execution_count": 32,
     "metadata": {},
     "output_type": "execute_result"
    }
   ],
   "source": [
    "y_pred = knn.predict(x_test_scaled)\n",
    "cm = confusion_matrix(y_test_scaled , y_pred)\n",
    "cm"
   ]
  },
  {
   "cell_type": "markdown",
   "metadata": {},
   "source": [
    "#### --------------------------------------------------------------------------------------------------------------------------------------------------------------------------------------------------"
   ]
  },
  {
   "cell_type": "markdown",
   "metadata": {},
   "source": [
    "# LogisticRegression"
   ]
  },
  {
   "cell_type": "code",
   "execution_count": 33,
   "metadata": {},
   "outputs": [
    {
     "name": "stdout",
     "output_type": "stream",
     "text": [
      "0.9222769567597153\n",
      "0.9361042561857993\n"
     ]
    }
   ],
   "source": [
    "log = LogisticRegression()\n",
    "log.fit(x_train_scaled , y_train_scaled)\n",
    "print(log.score(x_test_scaled , y_test_scaled))\n",
    "scores = cross_val_score(knn , x_scaled , y_scaled , cv = 5)\n",
    "print(scores.mean())"
   ]
  },
  {
   "cell_type": "markdown",
   "metadata": {},
   "source": [
    "#### Confusion Matrix"
   ]
  },
  {
   "cell_type": "code",
   "execution_count": 34,
   "metadata": {},
   "outputs": [
    {
     "data": {
      "text/plain": [
       "array([[14934,   101],\n",
       "       [ 1177,   231]], dtype=int64)"
      ]
     },
     "execution_count": 34,
     "metadata": {},
     "output_type": "execute_result"
    }
   ],
   "source": [
    "y_pred = log.predict(x_test_scaled)\n",
    "cm = confusion_matrix(y_test_scaled , y_pred)\n",
    "cm"
   ]
  },
  {
   "cell_type": "code",
   "execution_count": null,
   "metadata": {},
   "outputs": [],
   "source": []
  },
  {
   "cell_type": "markdown",
   "metadata": {},
   "source": [
    "#### --------------------------------------------------------------------------------------------------------------------------------------------------------------------------------------------------"
   ]
  },
  {
   "cell_type": "markdown",
   "metadata": {},
   "source": [
    "### Overall Xgboost gives best accuracy with 94% accruracy also it is generalized model"
   ]
  },
  {
   "cell_type": "markdown",
   "metadata": {},
   "source": [
    "### test score :- 94.08"
   ]
  },
  {
   "cell_type": "markdown",
   "metadata": {},
   "source": [
    "### cross validarion score :- 94.13"
   ]
  },
  {
   "cell_type": "markdown",
   "metadata": {},
   "source": [
    "### Model does not need tuning because it is giving good accuracy"
   ]
  },
  {
   "cell_type": "markdown",
   "metadata": {},
   "source": [
    "### with minimum type1 error and 1 type2 error."
   ]
  },
  {
   "cell_type": "markdown",
   "metadata": {},
   "source": [
    "### Hence Xgboost will be selected for prediction."
   ]
  },
  {
   "cell_type": "code",
   "execution_count": null,
   "metadata": {},
   "outputs": [],
   "source": []
  }
 ],
 "metadata": {
  "kernelspec": {
   "display_name": "Python 3",
   "language": "python",
   "name": "python3"
  },
  "language_info": {
   "codemirror_mode": {
    "name": "ipython",
    "version": 3
   },
   "file_extension": ".py",
   "mimetype": "text/x-python",
   "name": "python",
   "nbconvert_exporter": "python",
   "pygments_lexer": "ipython3",
   "version": "3.7.6"
  }
 },
 "nbformat": 4,
 "nbformat_minor": 4
}
